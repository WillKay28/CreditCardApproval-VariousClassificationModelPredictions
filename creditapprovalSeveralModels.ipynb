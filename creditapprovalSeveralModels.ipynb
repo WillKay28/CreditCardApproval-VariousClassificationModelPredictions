{
 "cells": [
  {
   "cell_type": "markdown",
   "id": "14d51069",
   "metadata": {},
   "source": [
    "# Various Classification Models Applied to Credit Card Data\n",
    "\n",
    "In the project earlier, I analyzed the approval ratings of credit cards with respect to features including gender, age, debt, married, bank customer, industry, ethnicity, years employed, prior default, employed, credit score, driver's license, citizen, zipcode, income and approved (target feature). I also quantify credit risks rate within each category of some selected features.\n",
    "\n",
    "In this project, we apply various classification models (6) to the credit card data to examine their corresponding performance. The models include simple linear algorithms {Logistic Regression (LRG), Linear Discriminant Analysis (LDA)} and non-linear algorithms {K-Nearest Neighbors (KNN), Classification and Regression Trees (CART), Gaussian Naive Bayes (GNB), Support Vector Machines (SVM)}."
   ]
  },
  {
   "cell_type": "code",
   "execution_count": 8,
   "id": "4892fbac",
   "metadata": {},
   "outputs": [],
   "source": [
    "# Load necessary libraries\n",
    "\n",
    "import pandas as pd\n",
    "import numpy as np\n",
    "import seaborn as sns\n",
    "from matplotlib import pyplot as plt\n",
    "from sklearn.model_selection import train_test_split\n",
    "from sklearn.model_selection import cross_val_score\n",
    "from sklearn.model_selection import StratifiedKFold\n",
    "from sklearn.metrics import classification_report\n",
    "from sklearn.metrics import confusion_matrix\n",
    "from sklearn.metrics import accuracy_score\n",
    "from sklearn.linear_model import LogisticRegression\n",
    "from sklearn.tree import DecisionTreeClassifier\n",
    "from sklearn.neighbors import KNeighborsClassifier\n",
    "from sklearn.discriminant_analysis import LinearDiscriminantAnalysis\n",
    "from sklearn.naive_bayes import GaussianNB\n",
    "from sklearn.svm import SVC\n",
    "%matplotlib inline"
   ]
  },
  {
   "cell_type": "code",
   "execution_count": 9,
   "id": "189f6f9a",
   "metadata": {},
   "outputs": [],
   "source": [
    "data = pd.read_csv(\"clean_creditcard.csv\", sep = \",\")\n",
    "\n",
    "newdata = data.drop('Approved', axis = 'columns')\n",
    "Target = data['Approved']"
   ]
  },
  {
   "cell_type": "code",
   "execution_count": 10,
   "id": "94a3efb1",
   "metadata": {},
   "outputs": [],
   "source": [
    "from sklearn.preprocessing import LabelEncoder\n",
    "LabEnc = LabelEncoder()\n",
    "for i in data:\n",
    "    if data[i].dtypes == \"object\":\n",
    "        LabEnc.fit(data[i])\n",
    "        data[i] = LabEnc.transform(data[i])"
   ]
  },
  {
   "cell_type": "code",
   "execution_count": 11,
   "id": "cd8189f5",
   "metadata": {},
   "outputs": [],
   "source": [
    "X_train, X_test, y_train, y_test = train_test_split(data.drop(['Approved'], axis = 'columns'), data.Approved, test_size=0.25)"
   ]
  },
  {
   "cell_type": "code",
   "execution_count": 12,
   "id": "2080a695",
   "metadata": {},
   "outputs": [],
   "source": [
    "from sklearn.preprocessing import MinMaxScaler\n",
    "\n",
    "scaler = MinMaxScaler(feature_range = (0,1))\n",
    "rX_test = scaler.fit_transform(X_test)\n",
    "rX_train = scaler.fit_transform(X_train)"
   ]
  },
  {
   "cell_type": "code",
   "execution_count": 18,
   "id": "44db7052",
   "metadata": {},
   "outputs": [
    {
     "name": "stdout",
     "output_type": "stream",
     "text": [
      "LRG: 0.86\n",
      "LDA: 0.86\n",
      "KNN: 0.84\n",
      "CART: 0.79\n",
      "GNB: 0.80\n",
      "SVM: 0.86\n"
     ]
    }
   ],
   "source": [
    "models = []\n",
    "\n",
    "models.append(('LRG', LogisticRegression(solver='liblinear', multi_class='ovr')))\n",
    "models.append(('LDA', LinearDiscriminantAnalysis()))\n",
    "models.append(('KNN', KNeighborsClassifier()))\n",
    "models.append(('CART', DecisionTreeClassifier()))\n",
    "models.append(('GNB', GaussianNB()))\n",
    "models.append(('SVM', SVC(gamma='auto')))\n",
    "\n",
    "# evaluate each model in turn\n",
    "results = []\n",
    "names = []\n",
    "\n",
    "for name, model in models:\n",
    "    kfold = StratifiedKFold(n_splits=10, random_state=1, shuffle=True)\n",
    "    CV_results = cross_val_score(model, rX_train, y_train, cv=kfold, scoring='accuracy')\n",
    "    results.append(CV_results)\n",
    "    names.append(name)\n",
    "    print('%s: %.2f' % (name, CV_results.mean()))"
   ]
  },
  {
   "cell_type": "markdown",
   "id": "94822734",
   "metadata": {},
   "source": [
    "We observe that the simple linear models (LRG & LDA) generates better accuracy as compared with the non-linear models. "
   ]
  },
  {
   "cell_type": "code",
   "execution_count": null,
   "id": "261a1c11",
   "metadata": {},
   "outputs": [],
   "source": []
  }
 ],
 "metadata": {
  "kernelspec": {
   "display_name": "Python 3 (ipykernel)",
   "language": "python",
   "name": "python3"
  },
  "language_info": {
   "codemirror_mode": {
    "name": "ipython",
    "version": 3
   },
   "file_extension": ".py",
   "mimetype": "text/x-python",
   "name": "python",
   "nbconvert_exporter": "python",
   "pygments_lexer": "ipython3",
   "version": "3.9.7"
  }
 },
 "nbformat": 4,
 "nbformat_minor": 5
}
